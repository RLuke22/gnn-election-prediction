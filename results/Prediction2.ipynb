{
 "cells": [
  {
   "cell_type": "code",
   "execution_count": 1,
   "metadata": {},
   "outputs": [],
   "source": [
    "import pandas as pd"
   ]
  },
  {
   "cell_type": "code",
   "execution_count": 2,
   "metadata": {},
   "outputs": [
    {
     "data": {
      "text/html": [
       "<div>\n",
       "<table border=\"1\" class=\"dataframe\">\n",
       "  <thead>\n",
       "    <tr style=\"text-align: right;\">\n",
       "      <th></th>\n",
       "      <th>tweet_id</th>\n",
       "      <th>retweet_user_id</th>\n",
       "      <th>state</th>\n",
       "      <th>prob_d</th>\n",
       "      <th>prob_r</th>\n",
       "      <th>result</th>\n",
       "    </tr>\n",
       "  </thead>\n",
       "  <tbody>\n",
       "    <tr>\n",
       "      <th>0</th>\n",
       "      <td>1.322203e+18</td>\n",
       "      <td>-1</td>\n",
       "      <td>Ohio</td>\n",
       "      <td>0.964084</td>\n",
       "      <td>0.035916</td>\n",
       "      <td>D</td>\n",
       "    </tr>\n",
       "    <tr>\n",
       "      <th>2</th>\n",
       "      <td>1.319783e+18</td>\n",
       "      <td>-1</td>\n",
       "      <td>Arizona</td>\n",
       "      <td>0.016986</td>\n",
       "      <td>0.983014</td>\n",
       "      <td>R</td>\n",
       "    </tr>\n",
       "    <tr>\n",
       "      <th>4</th>\n",
       "      <td>1.321048e+18</td>\n",
       "      <td>-1</td>\n",
       "      <td>Florida</td>\n",
       "      <td>0.781481</td>\n",
       "      <td>0.218519</td>\n",
       "      <td>D</td>\n",
       "    </tr>\n",
       "    <tr>\n",
       "      <th>5</th>\n",
       "      <td>1.318296e+18</td>\n",
       "      <td>-1</td>\n",
       "      <td>Texas</td>\n",
       "      <td>1.000000</td>\n",
       "      <td>0.000000</td>\n",
       "      <td>D</td>\n",
       "    </tr>\n",
       "    <tr>\n",
       "      <th>9</th>\n",
       "      <td>1.321070e+18</td>\n",
       "      <td>-1</td>\n",
       "      <td>Georgia</td>\n",
       "      <td>0.000000</td>\n",
       "      <td>1.000000</td>\n",
       "      <td>R</td>\n",
       "    </tr>\n",
       "  </tbody>\n",
       "</table>\n",
       "</div>"
      ],
      "text/plain": [
       "       tweet_id  retweet_user_id    state    prob_d    prob_r result\n",
       "0  1.322203e+18               -1     Ohio  0.964084  0.035916      D\n",
       "2  1.319783e+18               -1  Arizona  0.016986  0.983014      R\n",
       "4  1.321048e+18               -1  Florida  0.781481  0.218519      D\n",
       "5  1.318296e+18               -1    Texas  1.000000  0.000000      D\n",
       "9  1.321070e+18               -1  Georgia  0.000000  1.000000      R"
      ]
     },
     "execution_count": 2,
     "metadata": {},
     "output_type": "execute_result"
    }
   ],
   "source": [
    "input_csv_path = \"../../results_unweighted.csv\"\n",
    "df = pd.read_csv(input_csv_path, encoding='utf-8', header=None)\n",
    "\n",
    "df.columns = [\n",
    "    'tweet_id', \n",
    "    'user_id', \n",
    "    'retweet_user_id', \n",
    "    'text', \n",
    "    'party',\n",
    "    'state', \n",
    "    'hashtags', \n",
    "    'keywords',\n",
    "    'party_training',\n",
    "    'index',\n",
    "    'follows_d',\n",
    "    'follows_r',\n",
    "    'prob_d',\n",
    "    'prob_r',\n",
    "    'result'\n",
    "]\n",
    "\n",
    "df = df.drop(['user_id',\n",
    "             'text',\n",
    "             'party',\n",
    "             'hashtags',\n",
    "             'keywords',\n",
    "             'party_training',\n",
    "             'index',\n",
    "             'follows_d',\n",
    "             'follows_r'], axis=1)\n",
    "\n",
    "# remove low confidence tweets\n",
    "df1 = df[df['prob_r'] >= 0.45]\n",
    "df1 = df1[df1['prob_r'] <= 0.55]\n",
    "df = pd.concat([df,df1]).drop_duplicates(subset=['tweet_id'], keep=False)\n",
    "\n",
    "# only include posted tweets\n",
    "df = df[df['retweet_user_id'] == -1]\n",
    "\n",
    "df.head()"
   ]
  },
  {
   "cell_type": "code",
   "execution_count": 3,
   "metadata": {},
   "outputs": [],
   "source": [
    "def make_prediction(state, df):\n",
    "    df = df[df['state'] == state]\n",
    "    \n",
    "    num_d = df[df.result == 'D'].shape[0]\n",
    "    num_r = df[df.result == 'R'].shape[0]\n",
    "    \n",
    "    print(state)\n",
    "    print(\"D: \", num_d)\n",
    "    print(\"R: \", num_r)"
   ]
  },
  {
   "cell_type": "code",
   "execution_count": 4,
   "metadata": {},
   "outputs": [
    {
     "name": "stdout",
     "output_type": "stream",
     "text": [
      "Arizona\n",
      "D:  8380\n",
      "R:  6753\n"
     ]
    }
   ],
   "source": [
    "make_prediction(\"Arizona\", df)"
   ]
  },
  {
   "cell_type": "code",
   "execution_count": 5,
   "metadata": {},
   "outputs": [
    {
     "name": "stdout",
     "output_type": "stream",
     "text": [
      "Iowa\n",
      "D:  3882\n",
      "R:  4299\n"
     ]
    }
   ],
   "source": [
    "make_prediction(\"Iowa\", df)"
   ]
  },
  {
   "cell_type": "code",
   "execution_count": 6,
   "metadata": {},
   "outputs": [
    {
     "name": "stdout",
     "output_type": "stream",
     "text": [
      "Florida\n",
      "D:  27121\n",
      "R:  26190\n"
     ]
    }
   ],
   "source": [
    "make_prediction(\"Florida\", df)"
   ]
  },
  {
   "cell_type": "code",
   "execution_count": 7,
   "metadata": {},
   "outputs": [
    {
     "name": "stdout",
     "output_type": "stream",
     "text": [
      "Georgia\n",
      "D:  14444\n",
      "R:  14742\n"
     ]
    }
   ],
   "source": [
    "make_prediction(\"Georgia\", df)"
   ]
  },
  {
   "cell_type": "code",
   "execution_count": 8,
   "metadata": {},
   "outputs": [
    {
     "name": "stdout",
     "output_type": "stream",
     "text": [
      "Ohio\n",
      "D:  19490\n",
      "R:  19467\n"
     ]
    }
   ],
   "source": [
    "make_prediction(\"Ohio\", df)"
   ]
  },
  {
   "cell_type": "code",
   "execution_count": 9,
   "metadata": {},
   "outputs": [
    {
     "name": "stdout",
     "output_type": "stream",
     "text": [
      "Texas\n",
      "D:  39802\n",
      "R:  40779\n"
     ]
    }
   ],
   "source": [
    "make_prediction(\"Texas\", df)"
   ]
  },
  {
   "cell_type": "code",
   "execution_count": 10,
   "metadata": {},
   "outputs": [
    {
     "name": "stdout",
     "output_type": "stream",
     "text": [
      "NorthCarolina\n",
      "D:  15453\n",
      "R:  14087\n"
     ]
    }
   ],
   "source": [
    "make_prediction(\"NorthCarolina\", df)"
   ]
  }
 ],
 "metadata": {
  "kernelspec": {
   "display_name": "Python 3",
   "language": "python",
   "name": "python3"
  },
  "language_info": {
   "codemirror_mode": {
    "name": "ipython",
    "version": 3
   },
   "file_extension": ".py",
   "mimetype": "text/x-python",
   "name": "python",
   "nbconvert_exporter": "python",
   "pygments_lexer": "ipython3",
   "version": "3.6.9"
  }
 },
 "nbformat": 4,
 "nbformat_minor": 4
}
